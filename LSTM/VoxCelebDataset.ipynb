{
 "cells": [
  {
   "cell_type": "code",
   "execution_count": 1,
   "metadata": {},
   "outputs": [],
   "source": [
    "import torch\n",
    "import torch.utils.data as data\n",
    "import torch.nn as nn\n",
    "from pathlib import Path\n",
    "from torch.autograd import Variable\n",
    "import numpy as np"
   ]
  },
  {
   "cell_type": "code",
   "execution_count": 2,
   "metadata": {},
   "outputs": [],
   "source": [
    "import pandas as pd\n",
    "\n",
    "def split_dataset_into_train_and_test_pandaframes(metadata_p):\n",
    "    metadata = pd.read_csv(metadata_p, delimiter='\\t')\n",
    "    train_pf = metadata.loc[metadata['Set'] == 'dev']\n",
    "    test_pf = metadata.loc[metadata['Set'] == 'test']\n",
    "    return train_pf, test_pf"
   ]
  },
  {
   "cell_type": "code",
   "execution_count": 3,
   "metadata": {},
   "outputs": [],
   "source": [
    "def append_audio_files_to_pf(pandaframe, audio_path):\n",
    "    coefficients_path = \"rpcc/\"\n",
    "    list_with_audio_files = []\n",
    "    \n",
    "    for index, row in pandaframe.iterrows():\n",
    "        list_of_audio_files = find_audio_files(row['VoxCeleb1 ID'], audio_path)\n",
    "        for audio in list_of_audio_files:\n",
    "            audio_path_parts = str(audio).split('/')\n",
    "            list_with_audio_files.append([row['VoxCeleb1 ID'], row['Gender'], row['Nationality'], row['Set'], '/'.join(audio_path_parts[4:])])\n",
    "    return pd.DataFrame(list_with_audio_files, columns = ['VoxCeleb1 ID', 'Gender', 'Nationality', 'Set', 'Audio Path'])\n",
    "        \n",
    "def find_audio_files(speaker_id, audio_path):\n",
    "    audio_path = Path(audio_path)\n",
    "    return [f for f in audio_path.glob(\"{}/**/*.wav.npy\".format(speaker_id)) if f.is_file()]"
   ]
  },
  {
   "cell_type": "code",
   "execution_count": 4,
   "metadata": {},
   "outputs": [],
   "source": [
    "metadata_path = \"voxceleb1_metadata.csv\"\n",
    "dev_audio_path = \"processed/Processed/vox1_dev_wav/wav\"\n",
    "test_audio_path = \"processed/Processed/vox1_test_wav/wav\"\n",
    "train_pf, test_pf = split_dataset_into_train_and_test_pandaframes(metadata_path)\n",
    "train_pf_with_audio_files = append_audio_files_to_pf(train_pf, dev_audio_path)\n",
    "test_pf_with_audio_files = append_audio_files_to_pf(test_pf, test_audio_path)\n"
   ]
  },
  {
   "cell_type": "code",
   "execution_count": 42,
   "metadata": {},
   "outputs": [
    {
     "name": "stdout",
     "output_type": "stream",
     "text": [
      "VoxCeleb1 ID                              id10002\n",
      "Gender                                          m\n",
      "Nationality                                 India\n",
      "Set                                           dev\n",
      "Audio Path      id10002/cMGEuZ1zqXk/00004.wav.npy\n",
      "Name: 80, dtype: object\n",
      "Found 0 with less than 40 Frames, removing them from train set\n"
     ]
    }
   ],
   "source": [
    "frames_lower_than_40 = []\n",
    "for index, row in train_pf_with_audio_files.iterrows():\n",
    "    rpcc = np.load(\"{}/{}\".format(dev_audio_path,row['Audio Path']))\n",
    "        \n",
    "    if len(rpcc[1]) < 40:\n",
    "        frames_lower_than_40.append(index)\n",
    "        \n",
    "print(\"Found {} with less than 40 Frames, removing them from train set\".format(len(frames_lower_than_40)))\n",
    "\n",
    "train_pf_with_audio_files = train_pf_with_audio_files.drop(index=frames_lower_than_40)"
   ]
  },
  {
   "cell_type": "code",
   "execution_count": 6,
   "metadata": {},
   "outputs": [
    {
     "name": "stdout",
     "output_type": "stream",
     "text": [
      "Found 0 with less than 40 Frames, removing them from train set\n"
     ]
    }
   ],
   "source": [
    "frames_lower_than_40 = []\n",
    "for index, row in test_pf_with_audio_files.iterrows():\n",
    "    full_audio_path = \"{}/{}\".format(test_audio_path, row['Audio Path'])\n",
    "   # print(full_audio_path)\n",
    "    rpcc = np.load(full_audio_path)\n",
    "        \n",
    "    if len(rpcc[1]) < 40:\n",
    "        frames_lower_than_40.append(index)\n",
    "\n",
    "print(\"Found {} with less than 40 Frames, removing them from train set\".format(len(frames_lower_than_40)))\n",
    "\n",
    "test_pf_with_audio_files = test_pf_with_audio_files.drop(index=frames_lower_than_40)\n"
   ]
  },
  {
   "cell_type": "code",
   "execution_count": 7,
   "metadata": {},
   "outputs": [],
   "source": [
    "train_speaker_ids = (train_pf_with_audio_files['VoxCeleb1 ID'].unique()).tolist()\n",
    "validate_speaker_ids = (test_pf_with_audio_files['VoxCeleb1 ID'].unique()).tolist()\n",
    "speaker_list_ids = train_speaker_ids + validate_speaker_ids"
   ]
  },
  {
   "cell_type": "code",
   "execution_count": 8,
   "metadata": {},
   "outputs": [],
   "source": [
    "speaker_id_to_index = {}\n",
    "speaker_index_to_id = {}\n",
    "for idx, speaker_id in enumerate(speaker_list_ids):\n",
    "    speaker_id_to_index[speaker_id] = idx\n",
    "    speaker_index_to_id[idx] = speaker_id"
   ]
  },
  {
   "cell_type": "code",
   "execution_count": 9,
   "metadata": {},
   "outputs": [],
   "source": [
    "class VoxCelebDataset(data.Dataset):\n",
    "    def __init__(self, pandaframe, targets, root_dir):\n",
    "        self.dataset = pandaframe\n",
    "        self.targets = targets\n",
    "        self.root_dir = root_dir\n",
    "        self.len = len(pandaframe)\n",
    "        \n",
    "    def __getitem__(self, index):\n",
    "        speaker = self.dataset.iloc[index]\n",
    "        path_to_rpcc = \"{}/{}\".format(self.root_dir, speaker['Audio Path'])\n",
    "        rpcc = np.load(path_to_rpcc)\n",
    "        #return \n",
    "        return torch.Tensor(rpcc[:,0:40]), speaker['VoxCeleb1 ID']\n",
    "    \n",
    "    def __len__(self):\n",
    "        return self.len"
   ]
  },
  {
   "cell_type": "code",
   "execution_count": 10,
   "metadata": {},
   "outputs": [],
   "source": [
    "train_dataset = VoxCelebDataset(train_pf_with_audio_files, speaker_id_to_index, dev_audio_path)\n",
    "test_dataset = VoxCelebDataset(test_pf_with_audio_files, speaker_id_to_index, test_audio_path)"
   ]
  },
  {
   "cell_type": "code",
   "execution_count": 11,
   "metadata": {},
   "outputs": [],
   "source": [
    "batch_size = 100\n",
    "train_dataloader = data.DataLoader(dataset=train_dataset, batch_size = batch_size, shuffle=True)\n",
    "test_dataloader = data.DataLoader(dataset=test_dataset, batch_size = batch_size, shuffle=True)\n",
    "\n",
    "# data, target = next(iter(dataloader))\n",
    "# print(data)"
   ]
  },
  {
   "cell_type": "code",
   "execution_count": 14,
   "metadata": {},
   "outputs": [],
   "source": [
    "import torch.nn.functional as F\n",
    "import torch.autograd as autograd\n",
    "\n",
    "class LSTM(nn.Module):\n",
    "    def __init__(self, coefficients, hidden_dim, speaker_size, label_size, batch_size):\n",
    "        super().__init__()\n",
    "        self.hidden_dim = hidden_dim\n",
    "        self.batch_size = batch_size\n",
    "\n",
    "        self.lstm = nn.LSTM(coefficients, hidden_dim)\n",
    "        self.hidden2label = nn.Linear(hidden_dim, speaker_size)\n",
    "        self.hidden = self. init_hidden()\n",
    "#         self.lstm = nn.LSTM(input_size, hidden_layer_size)\n",
    "\n",
    "#         self.l_out = nn.Linear(in_features=3000,\n",
    "#                                out_features=speaker_size)\n",
    "\n",
    "    def init_hidden(self):\n",
    "        # the first is the hidden h\n",
    "        # the second is the cell  c\n",
    "        return (autograd.Variable(torch.zeros(1, self.batch_size, self.hidden_dim).cuda()),\n",
    "                autograd.Variable(torch.zeros(1, self.batch_size, self.hidden_dim).cuda()))\n",
    "\n",
    "    def forward(self, x):\n",
    "\n",
    "        #x = sentence.view(len(sentence), self.batch_size , -1)\n",
    "        \n",
    "        #print(x.shape)\n",
    "        lstm_out, self.hidden = self.lstm(x, self.hidden)\n",
    "        y  = self.hidden2label(lstm_out[-1])\n",
    "        #log_probs = F.log_softmax(y)\n",
    "        return y"
   ]
  },
  {
   "cell_type": "code",
   "execution_count": 15,
   "metadata": {},
   "outputs": [],
   "source": [
    "model = LSTM(coefficients=40, hidden_dim=4, speaker_size=len(speaker_index_to_id),label_size=len(speaker_index_to_id), batch_size=batch_size)\n",
    "criterion = nn.CrossEntropyLoss()\n",
    "optimizer = torch.optim.Adam(model.parameters(), lr=0.001)"
   ]
  },
  {
   "cell_type": "code",
   "execution_count": 16,
   "metadata": {},
   "outputs": [],
   "source": [
    "model = model.cuda()"
   ]
  },
  {
   "cell_type": "code",
   "execution_count": 18,
   "metadata": {},
   "outputs": [
    {
     "name": "stdout",
     "output_type": "stream",
     "text": [
      "Epoch 0, training loss: 7.06932917103001, validation loss: 11.386523908498337\n",
      "Epoch 1, training loss: 7.089495586082289, validation loss: 14.766786030360631\n",
      "Epoch 2, training loss: 7.107071005584573, validation loss: 17.816991494626414\n",
      "Epoch 3, training loss: 7.117496122669356, validation loss: 20.12984003339495\n",
      "Epoch 4, training loss: 7.118825798316858, validation loss: 22.37396177953603\n",
      "Epoch 5, training loss: 7.116270257709967, validation loss: 24.966650359484614\n",
      "Epoch 6, training loss: 7.1132678709819, validation loss: 27.1500771970165\n",
      "Epoch 7, training loss: 7.112040803507822, validation loss: 30.160870999706034\n",
      "Epoch 8, training loss: 7.1081543215666345, validation loss: 32.6421949814777\n",
      "Epoch 9, training loss: 7.118056040445109, validation loss: 34.39792337222975\n"
     ]
    }
   ],
   "source": [
    "epochs = 10\n",
    "\n",
    "training_loss, validation_loss = [], []\n",
    "\n",
    "\n",
    "for i in range(epochs):\n",
    "    \n",
    "    epoch_training_loss = 0\n",
    "    epoch_validation_loss = 0\n",
    "    \n",
    "    model.train()\n",
    "    \n",
    "    for idx, (data_train, targets_train) in enumerate(train_dataloader):\n",
    "        model.batch_size = len(data_train)\n",
    "        model.hidden = model.init_hidden()\n",
    "        \n",
    "        targets_idx = [speaker_id_to_index[speaker_id] for speaker_id in targets_train]\n",
    "        \n",
    "        targets_idx = torch.LongTensor(targets_idx)\n",
    "        \n",
    "        data_train = data_train.cuda()\n",
    "        targets_idx = targets_idx.cuda()\n",
    "        #print(data.shape)\n",
    "        data_train = data_train.permute(1,0,2)\n",
    "        #print(data.shape)\n",
    "        outputs = model.forward(data_train)\n",
    "        loss = criterion(outputs, targets_idx)\n",
    "        \n",
    "        loss.backward()\n",
    "        optimizer.step()\n",
    "        \n",
    "        epoch_training_loss += loss.cpu().detach().numpy()  \n",
    "    \n",
    "    model.eval()\n",
    "    \n",
    "    for idx, (data_validate, targets_validate) in enumerate(test_dataloader):\n",
    "        \n",
    "        model.batch_size = len(data_validate)\n",
    "        model.hidden = model.init_hidden()\n",
    "        #print(data.shape)\n",
    "        data_validate = data_validate.permute(1,0,2)\n",
    "        data_validate = data_validate.cuda()\n",
    "        \n",
    "        \n",
    "        outputs = model.forward(data_validate)\n",
    "        \n",
    "        targets_idx = [speaker_id_to_index[speaker_id] for speaker_id in targets_validate]\n",
    "        targets_idx = torch.LongTensor(targets_idx)\n",
    "        targets_idx = targets_idx.cuda()\n",
    "        \n",
    "        loss = criterion(outputs, targets_idx)\n",
    "        \n",
    "        # Update loss\n",
    "        epoch_validation_loss += loss.cpu().detach().numpy()    \n",
    "    \n",
    "    training_loss.append(epoch_training_loss/len(train_dataloader))\n",
    "    validation_loss.append(epoch_validation_loss/len(test_dataloader))\n",
    "\n",
    "    print(f'Epoch {i}, training loss: {training_loss[-1]}, validation loss: {validation_loss[-1]}')\n"
   ]
  },
  {
   "cell_type": "code",
   "execution_count": 19,
   "metadata": {},
   "outputs": [],
   "source": [
    "trials = pd.read_csv('voxceleb_verification_test.csv', delimiter=' ', names=['Target', 'Trial file 1', 'Trial file 2'])"
   ]
  },
  {
   "cell_type": "code",
   "execution_count": 20,
   "metadata": {},
   "outputs": [
    {
     "name": "stdout",
     "output_type": "stream",
     "text": [
      "Target                                      1\n",
      "Trial file 1    id10270/x6uYqmx31kE/00001.wav\n",
      "Trial file 2    id10270/8jEAjG6SegY/00008.wav\n",
      "Name: 0, dtype: object\n"
     ]
    }
   ],
   "source": [
    "print(trials.iloc[0])"
   ]
  },
  {
   "cell_type": "code",
   "execution_count": 22,
   "metadata": {},
   "outputs": [],
   "source": [
    "trials_results = pd.DataFrame(columns=['Targettype', 'Actual target', 'audio_file', 'Score for actual'])\n",
    "\n",
    "for index, trial in trials.iterrows():\n",
    "    trial_rpcc = np.load(\"{}/{}.npy\".format(test_audio_path, trial['Trial file 2']))\n",
    "#trial_rpcc = np.load(\"{}/{}.npy\".format(test_audio_path, trial['Trial file 2']))\n",
    "    \n",
    "    trial_rpcc = torch.tensor(trial_rpcc[:,:40]).unsqueeze(0)\n",
    "\n",
    "    model.batch_size = len(trial_rpcc)\n",
    "    model.hidden = model.init_hidden()\n",
    "\n",
    "\n",
    "    trial_rpcc = trial_rpcc.permute(1,0,2)\n",
    "\n",
    "    trial_rpcc = trial_rpcc.cuda()\n",
    "\n",
    "    output = model.forward(trial_rpcc)\n",
    "    \n",
    "    \n",
    "    _, result = torch.max(output,1)\n",
    "\n",
    "    result = result.cpu().detach().numpy()[0]\n",
    "    speaker_result = speaker_index_to_id[result]\n",
    "    \n",
    "    trial_actual_target = str(trial['Trial file 1']).split('/')[0]\n",
    "    speaker_actual = speaker_id_to_index[trial_actual_target]\n",
    "    \n",
    "    result_actual = output.cpu().detach().numpy()[0][speaker_actual]\n",
    "    \n",
    "    new_row = {'Targettype': trial['Target'], 'Actual target': trial_actual_target, 'audio_file': trial['Trial file 2'], 'Score for actual': result_actual}\n",
    "    #print(new_row)\n",
    "    \n",
    "    trials_results = trials_results.append(new_row, ignore_index=True)\n",
    "\n",
    "# print(speaker_result)\n",
    "# print(trial_actual_target)"
   ]
  },
  {
   "cell_type": "code",
   "execution_count": 123,
   "metadata": {},
   "outputs": [
    {
     "name": "stdout",
     "output_type": "stream",
     "text": [
      "      Targettype Actual target                     audio_file  \\\n",
      "0              1       id10270  id10270/8jEAjG6SegY/00008.wav   \n",
      "1              0       id10270  id10300/ize_eiCFEg0/00003.wav   \n",
      "2              1       id10270  id10270/GWXujl-xAVM/00017.wav   \n",
      "3              0       id10270  id10273/0OCW1HUxZyg/00001.wav   \n",
      "4              1       id10270  id10270/8jEAjG6SegY/00022.wav   \n",
      "...          ...           ...                            ...   \n",
      "37715          0       id10309  id10302/K2_D_tFdAgY/00036.wav   \n",
      "37716          1       id10309  id10309/0b1inHMAr6o/00010.wav   \n",
      "37717          0       id10309  id10289/8l5ZnDf-FUA/00012.wav   \n",
      "37718          1       id10309  id10309/rxnN8thYzEQ/00017.wav   \n",
      "37719          0       id10309  id10296/Y-qKARMSO7k/00001.wav   \n",
      "\n",
      "       Score for actual  \n",
      "0            -15.295091  \n",
      "1            -15.295091  \n",
      "2            -15.295091  \n",
      "3            -15.295091  \n",
      "4            -15.295091  \n",
      "...                 ...  \n",
      "37715        -16.077700  \n",
      "37716        -16.077700  \n",
      "37717        -16.077700  \n",
      "37718        -16.077700  \n",
      "37719        -16.077700  \n",
      "\n",
      "[37720 rows x 4 columns]\n"
     ]
    }
   ],
   "source": [
    "print(trials_results)"
   ]
  },
  {
   "cell_type": "code",
   "execution_count": 41,
   "metadata": {},
   "outputs": [
    {
     "name": "stdout",
     "output_type": "stream",
     "text": [
      "0.3606224060058594\n",
      "0.6073827743530273\n",
      "0.4948730145162692\n"
     ]
    },
    {
     "data": {
      "text/plain": [
       "[<matplotlib.lines.Line2D at 0x7f0454391390>]"
      ]
     },
     "execution_count": 41,
     "metadata": {},
     "output_type": "execute_result"
    },
    {
     "data": {
      "image/png": "[encoded data removed]",
      "text/plain": [
       "<Figure size 432x288 with 1 Axes>"
      ]
     },
     "metadata": {
      "needs_background": "light"
     },
     "output_type": "display_data"
    }
   ],
   "source": [
    "import bob.measure as bm\n",
    "\n",
    "positives = trials_results.loc[trials_results['Targettype'] == 1]\n",
    "negatives = trials_results.loc[trials_results['Targettype'] == 0]\n",
    "\n",
    "#neg_array = negatives['Score for actual']\n",
    "#print(neg_array)\n",
    "print(np.max(positives['Score for actual']))\n",
    "print(np.max(negatives['Score for actual']))\n",
    "eer=bm.eer_rocch(negatives['Score for actual'], positives['Score for actual'])\n",
    "print(eer)\n",
    "bm.plot.det(negatives['Score for actual'],positives['Score for actual'])"
   ]
  },
  {
   "cell_type": "code",
   "execution_count": 66,
   "metadata": {},
   "outputs": [
    {
     "name": "stdout",
     "output_type": "stream",
     "text": [
      "Model's state_dict:\n",
      "lstm.weight_ih_l0 \t torch.Size([16, 40])\n",
      "lstm.weight_hh_l0 \t torch.Size([16, 4])\n",
      "lstm.bias_ih_l0 \t torch.Size([16])\n",
      "lstm.bias_hh_l0 \t torch.Size([16])\n",
      "hidden2label.weight \t torch.Size([1251, 4])\n",
      "hidden2label.bias \t torch.Size([1251])\n"
     ]
    }
   ],
   "source": [
    "print(\"Model's state_dict:\")\n",
    "for param_tensor in model.state_dict():\n",
    "    print(param_tensor, \"\\t\", model.state_dict()[param_tensor].size())\n"
   ]
  },
  {
   "cell_type": "code",
   "execution_count": 67,
   "metadata": {},
   "outputs": [],
   "source": [
    "torch.save(model.state_dict(), "
   ]
  },
  {
   "cell_type": "code",
   "execution_count": 68,
   "metadata": {},
   "outputs": [
    {
     "name": "stderr",
     "output_type": "stream",
     "text": [
      "/home/tellurium/anaconda3/envs/python3/lib/python3.7/site-packages/torch/serialization.py:402: UserWarning: Couldn't retrieve source code for container of type LSTM. It won't be checked for correctness upon loading.\n",
      "  \"type \" + obj.__name__ + \". It won't be checked \"\n"
     ]
    }
   ],
   "source": [
    "torch.save(model, \"first_iteration\")\n"
   ]
  },
  {
   "cell_type": "code",
   "execution_count": null,
   "metadata": {},
   "outputs": [],
   "source": []
  }
 ],
 "metadata": {
  "kernelspec": {
   "display_name": "Python 3",
   "language": "python",
   "name": "python3"
  },
  "language_info": {
   "codemirror_mode": {
    "name": "ipython",
    "version": 3
   },
   "file_extension": ".py",
   "mimetype": "text/x-python",
   "name": "python",
   "nbconvert_exporter": "python",
   "pygments_lexer": "ipython3",
   "version": "3.7.5"
  }
 },
 "nbformat": 4,
 "nbformat_minor": 4
}

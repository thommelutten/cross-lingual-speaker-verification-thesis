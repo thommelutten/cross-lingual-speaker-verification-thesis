{
 "cells": [
  {
   "cell_type": "code",
   "execution_count": 1,
   "metadata": {},
   "outputs": [],
   "source": [
    "import VoxCeleb as VC"
   ]
  },
  {
   "cell_type": "code",
   "execution_count": 2,
   "metadata": {},
   "outputs": [],
   "source": [
    "metadata_path = \"voxceleb1_metadata.csv\"\n",
    "dev_audio_path = \"processed/Processed/vox1_dev_wav/wav\"\n",
    "test_audio_path = \"processed/Processed/vox1_test_wav/wav\""
   ]
  },
  {
   "cell_type": "code",
   "execution_count": 3,
   "metadata": {},
   "outputs": [],
   "source": [
    "voxceleb_creater = VC.VoxCeleb(metadata_path, dev_audio_path, test_audio_path)"
   ]
  },
  {
   "cell_type": "code",
   "execution_count": 4,
   "metadata": {
    "scrolled": true
   },
   "outputs": [
    {
     "name": "stdout",
     "output_type": "stream",
     "text": [
      "Splitting dataset into train and test\n",
      "Filtering frames from datasets lower than 40\n",
      "Filtering samples so each speaker only has 45 samples\n",
      "Size of dataset is: 148637.\n",
      "Cleaned dataset size is now: 54495.\n",
      "Size of dataset is: 4874.\n",
      "Cleaned dataset size is now: 1800.\n",
      "Creating speaker id indexing lists\n",
      "Creating VoxCelebDatasets\n"
     ]
    }
   ],
   "source": [
    "train_dataset, test_dataset, speaker_id_to_index, speaker_index_to_id = voxceleb_creater.create_train_and_test_datasets_and_speaker_to_index(minimum_frames=40,minimum_samples=45)"
   ]
  },
  {
   "cell_type": "code",
   "execution_count": 8,
   "metadata": {},
   "outputs": [],
   "source": [
    "import torch.utils.data as data\n",
    "batch_size = 50\n",
    "train_dataloader = data.DataLoader(dataset=train_dataset, batch_size = batch_size, shuffle=True)\n",
    "test_dataloader = data.DataLoader(dataset=test_dataset, batch_size = batch_size, shuffle=True)"
   ]
  },
  {
   "cell_type": "code",
   "execution_count": 9,
   "metadata": {},
   "outputs": [],
   "source": [
    "import torch.nn.functional as F\n",
    "import torch.autograd as autograd\n",
    "import torch.nn as nn\n",
    "\n",
    "class LSTM(nn.Module):\n",
    "    def __init__(self, samples, hidden_dim, speaker_size, label_size, batch_size):\n",
    "        super().__init__()\n",
    "        self.hidden_dim = hidden_dim\n",
    "        self.batch_size = batch_size\n",
    "\n",
    "        self.lstm = nn.LSTM(samples, hidden_dim)\n",
    "        self.lstm2 = nn.LSTM(hidden_dim, (hidden_dim*2))\n",
    "        self.dropout = nn.Dropout(p=0.5)\n",
    "        self.hidden2label = nn.Linear((hidden_dim*2), speaker_size)\n",
    "        self.softmax = nn.LogSoftmax(dim=1)\n",
    "        self.hidden = self.init_hidden()\n",
    "#         self.lstm = nn.LSTM(input_size, hidden_layer_size)\n",
    "\n",
    "#         self.l_out = nn.Linear(in_features=3000,\n",
    "#                                out_features=speaker_size)\n",
    "\n",
    "    def init_hidden(self):\n",
    "        # the first is the hidden h\n",
    "        # the second is the cell  c\n",
    "        return (autograd.Variable(torch.zeros(1, self.batch_size, self.hidden_dim).cuda()),\n",
    "                autograd.Variable(torch.zeros(1, self.batch_size, self.hidden_dim).cuda()))\n",
    "\n",
    "    def forward(self, x):\n",
    "\n",
    "\n",
    "        lstm1, self.hidden = self.lstm(x, self.hidden)\n",
    "        lstm2, self.hidden = self.lstm2(lstm1)\n",
    "        x = self.dropout(lstm2[-2])\n",
    "        x = self.hidden2label(x)\n",
    "        x = self.softmax(x)\n",
    "        #log_probs = F.log_softmax(y)\n",
    "        return x"
   ]
  },
  {
   "cell_type": "code",
   "execution_count": 10,
   "metadata": {},
   "outputs": [],
   "source": [
    "import torch\n",
    "model = LSTM(samples=40, hidden_dim=100, speaker_size=len(speaker_index_to_id),label_size=len(speaker_index_to_id), batch_size=batch_size)\n",
    "criterion = nn.CrossEntropyLoss()\n",
    "optimizer = torch.optim.Adam(model.parameters(), lr=0.005, weight_decay=1e-06)"
   ]
  },
  {
   "cell_type": "code",
   "execution_count": 11,
   "metadata": {},
   "outputs": [],
   "source": [
    "model = model.cuda()"
   ]
  },
  {
   "cell_type": "code",
   "execution_count": 12,
   "metadata": {},
   "outputs": [
    {
     "name": "stdout",
     "output_type": "stream",
     "text": [
      "Epoch 0, training loss: 7.122626191760422, validation loss: 9.731302950117323\n",
      "Epoch 1, training loss: 7.076596659039138, validation loss: 10.759245846006605\n",
      "Epoch 2, training loss: 7.00731082837516, validation loss: 11.4395960966746\n",
      "Epoch 3, training loss: 6.921602523873705, validation loss: 11.985817485385471\n",
      "Epoch 4, training loss: 6.854932804282652, validation loss: 12.087526851230198\n",
      "Epoch 5, training loss: 6.802814822240707, validation loss: 12.168197472890219\n",
      "Epoch 6, training loss: 6.764467342184224, validation loss: 12.184102296829224\n",
      "Epoch 7, training loss: 6.723615717231681, validation loss: 12.198895454406738\n",
      "Epoch 8, training loss: 6.680166013087701, validation loss: 12.21584545241462\n",
      "Epoch 9, training loss: 6.639211928516353, validation loss: 12.279851463105944\n",
      "Epoch 10, training loss: 6.589638600655652, validation loss: 12.222060362497965\n",
      "Epoch 11, training loss: 6.561255525011535, validation loss: 12.121128824022081\n",
      "Epoch 12, training loss: 6.520082388886618, validation loss: 12.149155378341675\n",
      "Epoch 13, training loss: 6.497195403947742, validation loss: 12.21058596505059\n",
      "Epoch 14, training loss: 6.455872040057401, validation loss: 12.205720822016398\n",
      "Epoch 15, training loss: 6.436839625157347, validation loss: 12.3464638127221\n",
      "Epoch 16, training loss: 6.397143809292294, validation loss: 12.291494422488743\n",
      "Epoch 17, training loss: 6.375328674666378, validation loss: 12.385247521930271\n",
      "Epoch 18, training loss: 6.351444737408139, validation loss: 12.34942134221395\n",
      "Epoch 19, training loss: 6.3215010306157104, validation loss: 12.431124369303385\n",
      "Epoch 20, training loss: 6.303901642178177, validation loss: 12.335847483740913\n",
      "Epoch 21, training loss: 6.2731722525500375, validation loss: 12.52811728583442\n",
      "Epoch 22, training loss: 6.2558198473869115, validation loss: 12.62023401260376\n",
      "Epoch 23, training loss: 6.247745659154489, validation loss: 12.652174260881212\n",
      "Epoch 24, training loss: 6.216787032031138, validation loss: 12.600617196824816\n",
      "Epoch 25, training loss: 6.193212113686658, validation loss: 12.524312496185303\n",
      "Epoch 26, training loss: 6.17449688167747, validation loss: 12.628151390287611\n",
      "Epoch 27, training loss: 6.158636785647191, validation loss: 12.692189666959974\n",
      "Epoch 28, training loss: 6.135674710229996, validation loss: 12.662231922149658\n",
      "Epoch 29, training loss: 6.142173496736299, validation loss: 12.611248440212673\n",
      "Epoch 30, training loss: 6.1151122762522565, validation loss: 12.71054932806227\n",
      "Epoch 31, training loss: 6.10200472971715, validation loss: 12.828128947152031\n",
      "Epoch 32, training loss: 6.094819020787511, validation loss: 12.945794026056925\n",
      "Epoch 33, training loss: 6.069970519389582, validation loss: 12.855229510201347\n",
      "Epoch 34, training loss: 6.05958321510105, validation loss: 12.952018790774876\n",
      "Epoch 35, training loss: 6.0469433539504305, validation loss: 12.912848287158543\n",
      "Epoch 36, training loss: 6.027717608705573, validation loss: 13.153495788574219\n",
      "Epoch 37, training loss: 6.014611873714202, validation loss: 12.833746565712822\n",
      "Epoch 38, training loss: 5.989413312159547, validation loss: 12.999843994776407\n",
      "Epoch 39, training loss: 5.988016575192093, validation loss: 12.981464756859673\n",
      "Epoch 40, training loss: 5.998475375744181, validation loss: 13.130835162268745\n",
      "Epoch 41, training loss: 5.979848570342457, validation loss: 13.211244609620836\n",
      "Epoch 42, training loss: 5.967685298307226, validation loss: 13.097651693556044\n",
      "Epoch 43, training loss: 5.962957328393919, validation loss: 13.266694413291084\n",
      "Epoch 44, training loss: 5.943164534962506, validation loss: 13.149572849273682\n",
      "Epoch 45, training loss: 5.927776438599333, validation loss: 13.3350301583608\n",
      "Epoch 46, training loss: 5.906191324531485, validation loss: 13.491012414296469\n",
      "Epoch 47, training loss: 5.897161410707946, validation loss: 13.432934893502129\n",
      "Epoch 48, training loss: 5.880455686411726, validation loss: 13.290346251593697\n",
      "Epoch 49, training loss: 5.87252423172697, validation loss: 13.457195308473375\n"
     ]
    }
   ],
   "source": [
    "epochs = 50\n",
    "\n",
    "training_loss, validation_loss = [], []\n",
    "\n",
    "\n",
    "for i in range(epochs):\n",
    "    \n",
    "    epoch_training_loss = 0\n",
    "    epoch_validation_loss = 0\n",
    "    \n",
    "    model.train()\n",
    "    \n",
    "    for idx, (data_train, targets_train) in enumerate(train_dataloader):\n",
    "        optimizer.zero_grad()\n",
    "        model.batch_size = len(data_train)\n",
    "        model.hidden = model.init_hidden()\n",
    "        \n",
    "        targets_idx = [speaker_id_to_index[speaker_id] for speaker_id in targets_train]\n",
    "        \n",
    "        targets_idx = torch.LongTensor(targets_idx)\n",
    "        \n",
    "        data_train = data_train.cuda()\n",
    "        targets_idx = targets_idx.cuda()\n",
    "        #print(data.shape)\n",
    "        data_train = data_train.permute(1,0,2)\n",
    "        #print(data.shape)\n",
    "        outputs = model.forward(data_train)\n",
    "        #print(outputs.shape)\n",
    "        loss = criterion(outputs, targets_idx)\n",
    "        \n",
    "        loss.backward()\n",
    "        optimizer.step()\n",
    "        \n",
    "        epoch_training_loss += loss.cpu().detach().numpy()  \n",
    "    \n",
    "    model.eval()\n",
    "    \n",
    "    for idx, (data_validate, targets_validate) in enumerate(test_dataloader):\n",
    "        \n",
    "        model.batch_size = len(data_validate)\n",
    "        model.hidden = model.init_hidden()\n",
    "\n",
    "        data_validate = data_validate.permute(1,0,2)\n",
    "        data_validate = data_validate.cuda()\n",
    "        \n",
    "        \n",
    "        outputs = model.forward(data_validate)\n",
    "        \n",
    "        targets_idx = [speaker_id_to_index[speaker_id] for speaker_id in targets_validate]\n",
    "        targets_idx = torch.LongTensor(targets_idx)\n",
    "        targets_idx = targets_idx.cuda()\n",
    "        \n",
    "        loss = criterion(outputs, targets_idx)\n",
    "        \n",
    "        # Update loss\n",
    "        epoch_validation_loss += loss.cpu().detach().numpy()    \n",
    "    \n",
    "    training_loss.append(epoch_training_loss/len(train_dataloader))\n",
    "    validation_loss.append(epoch_validation_loss/len(test_dataloader))\n",
    "\n",
    "    print(f'Epoch {i}, training loss: {training_loss[-1]}, validation loss: {validation_loss[-1]}')\n"
   ]
  },
  {
   "cell_type": "code",
   "execution_count": 25,
   "metadata": {},
   "outputs": [
    {
     "data": {
      "image/png": "[encoded data removed]",
      "text/plain": [
       "<Figure size 432x288 with 1 Axes>"
      ]
     },
     "metadata": {
      "needs_background": "light"
     },
     "output_type": "display_data"
    }
   ],
   "source": [
    "import matplotlib.pyplot as plt\n",
    "plt.plot(training_loss, label='Training')\n",
    "plt.plot(validation_loss, label='Validation')\n",
    "plt.grid(True, linewidth=0.1)\n",
    "plt.xlabel(\"Epochs\")\n",
    "plt.ylabel(\"Loss %\")\n",
    "plt.legend()\n",
    "plt.savefig(\"lstm-training.png\")"
   ]
  },
  {
   "cell_type": "code",
   "execution_count": 46,
   "metadata": {},
   "outputs": [],
   "source": [
    "import pandas as pd\n",
    "trials = pd.read_csv('voxceleb_verification_test.csv', delimiter=' ', names=['Target', 'Trial file 1', 'Trial file 2'])"
   ]
  },
  {
   "cell_type": "code",
   "execution_count": 47,
   "metadata": {},
   "outputs": [
    {
     "name": "stdout",
     "output_type": "stream",
     "text": [
      "      Targettype Actual target                     audio_file  \\\n",
      "0              1       id10270  id10270/8jEAjG6SegY/00008.wav   \n",
      "1              0       id10270  id10300/ize_eiCFEg0/00003.wav   \n",
      "2              1       id10270  id10270/GWXujl-xAVM/00017.wav   \n",
      "3              0       id10270  id10273/0OCW1HUxZyg/00001.wav   \n",
      "4              1       id10270  id10270/8jEAjG6SegY/00022.wav   \n",
      "...          ...           ...                            ...   \n",
      "37715          0       id10309  id10302/K2_D_tFdAgY/00036.wav   \n",
      "37716          1       id10309  id10309/0b1inHMAr6o/00010.wav   \n",
      "37717          0       id10309  id10289/8l5ZnDf-FUA/00012.wav   \n",
      "37718          1       id10309  id10309/rxnN8thYzEQ/00017.wav   \n",
      "37719          0       id10309  id10296/Y-qKARMSO7k/00001.wav   \n",
      "\n",
      "       Score for actual  \n",
      "0            -12.284313  \n",
      "1            -11.594401  \n",
      "2            -12.971718  \n",
      "3            -12.645391  \n",
      "4            -13.747872  \n",
      "...                 ...  \n",
      "37715        -13.040292  \n",
      "37716        -11.538202  \n",
      "37717        -13.109617  \n",
      "37718        -13.721352  \n",
      "37719        -11.873353  \n",
      "\n",
      "[37720 rows x 4 columns]\n"
     ]
    }
   ],
   "source": [
    "import numpy as np\n",
    "trials_results = pd.DataFrame(columns=['Targettype', 'Actual target', 'audio_file', 'Score for actual'])\n",
    "\n",
    "model.eval()\n",
    "\n",
    "for index, trial in trials.iterrows():\n",
    "    trial_rpcc = np.load(\"{}/{}.npy\".format(test_audio_path, trial['Trial file 2']))    \n",
    "    trial_rpcc = torch.tensor(trial_rpcc[:13,:40]).unsqueeze(0)\n",
    "    \n",
    "    model.batch_size = len(trial_rpcc)\n",
    "    model.hidden = model.init_hidden()\n",
    "\n",
    "    trial_rpcc = trial_rpcc.permute(1,0,2)\n",
    "\n",
    "    trial_rpcc = trial_rpcc.cuda()\n",
    "    \n",
    "    output = model(trial_rpcc)\n",
    "    _, result = torch.max(output,1)\n",
    "    \n",
    "    result = result.cpu().detach().numpy()[0]\n",
    "    \n",
    "    speaker_result = speaker_index_to_id[result]\n",
    "    \n",
    "    trial_actual_target = str(trial['Trial file 1']).split('/')[0]\n",
    "    speaker_actual = speaker_id_to_index[trial_actual_target]\n",
    "    result_actual = output.cpu().detach().numpy()[0][speaker_actual]\n",
    "    \n",
    "    new_row = {'Targettype': trial['Target'], 'Actual target': trial_actual_target, 'audio_file': trial['Trial file 2'], 'Score for actual': result_actual}\n",
    "    #print(new_row)\n",
    "    trials_results = trials_results.append(new_row, ignore_index=True)\n",
    "print(trials_results)"
   ]
  },
  {
   "cell_type": "code",
   "execution_count": 48,
   "metadata": {},
   "outputs": [
    {
     "name": "stdout",
     "output_type": "stream",
     "text": [
      "0.4972361708795613\n"
     ]
    },
    {
     "data": {
      "text/plain": [
       "[<matplotlib.lines.Line2D at 0x7f7b85b20610>]"
      ]
     },
     "execution_count": 48,
     "metadata": {},
     "output_type": "execute_result"
    },
    {
     "data": {
      "image/png": "[encoded data removed]",
      "text/plain": [
       "<Figure size 432x288 with 1 Axes>"
      ]
     },
     "metadata": {
      "needs_background": "light"
     },
     "output_type": "display_data"
    }
   ],
   "source": [
    "import bob.measure as bm\n",
    "positives = trials_results.loc[trials_results['Targettype'] == 1]['Score for actual']\n",
    "negatives = trials_results.loc[trials_results['Targettype'] == 0]['Score for actual']\n",
    "\n",
    "eer=bm.eer_rocch(negatives,positives)\n",
    "\n",
    "print(eer)\n",
    "bm.plot.det(negatives, positives)"
   ]
  },
  {
   "cell_type": "code",
   "execution_count": null,
   "metadata": {},
   "outputs": [],
   "source": [
    "import bob\n",
    "from matplotlib import pyplot\n",
    "# we assume you have your negatives and positives already split\n",
    "npoints = 100\n",
    "fig = pyplot.figure(figsize=(10,5))\n",
    "bob.measure.plot.det(negatives, positives, npoints, color=(0,0,0), linestyle='-', label='test') \n",
    "bob.measure.plot.det_axis([1, 99.9, 1, 99.9]) \n",
    "pyplot.xlabel('FAR (%)') \n",
    "pyplot.ylabel('FRR (%)') \n",
    "pyplot.grid(True)\n",
    "pyplot.show() \n",
    "fig.savefig(\"LSTM-Selvaraj-1\")"
   ]
  },
  {
   "cell_type": "code",
   "execution_count": null,
   "metadata": {},
   "outputs": [],
   "source": [
    "from VoxCelebPerformance import plot_det_and_save_fig_as as vcplot\n",
    "\n",
    "vcplot(negatives, positives, \"TestFile2\", save=False)"
   ]
  },
  {
   "cell_type": "code",
   "execution_count": null,
   "metadata": {},
   "outputs": [],
   "source": []
  }
 ],
 "metadata": {
  "kernelspec": {
   "display_name": "Python 3",
   "language": "python",
   "name": "python3"
  },
  "language_info": {
   "codemirror_mode": {
    "name": "ipython",
    "version": 3
   },
   "file_extension": ".py",
   "mimetype": "text/x-python",
   "name": "python",
   "nbconvert_exporter": "python",
   "pygments_lexer": "ipython3",
   "version": "3.7.5"
  }
 },
 "nbformat": 4,
 "nbformat_minor": 2
}
